{
 "cells": [
  {
   "cell_type": "code",
   "execution_count": 1,
   "id": "993b322e",
   "metadata": {},
   "outputs": [
    {
     "name": "stdout",
     "output_type": "stream",
     "text": [
      "ok 1234\n"
     ]
    }
   ],
   "source": [
    "print (\"ok 1234\" )"
   ]
  },
  {
   "cell_type": "code",
   "execution_count": 3,
   "id": "f6fb90a1",
   "metadata": {},
   "outputs": [
    {
     "data": {
      "text/plain": [
       "'c:\\\\Users\\\\tanmoy\\\\Documents\\\\wind\\\\RAG'"
      ]
     },
     "execution_count": 3,
     "metadata": {},
     "output_type": "execute_result"
    }
   ],
   "source": [
    "pwd\n"
   ]
  },
  {
   "cell_type": "code",
   "execution_count": 6,
   "id": "aaa971ad",
   "metadata": {},
   "outputs": [],
   "source": [
    "import os \n",
    "os.chdir(\"c:\\\\Users\\\\tanmoy\\\\Documents\\\\wind\\\\RAG\\\\data\")\n",
    "\n"
   ]
  },
  {
   "cell_type": "code",
   "execution_count": 3,
   "id": "82fd4fa8",
   "metadata": {},
   "outputs": [
    {
     "data": {
      "text/plain": [
       "'c:\\\\Users\\\\tanmoy\\\\Documents\\\\wind\\\\RAG'"
      ]
     },
     "execution_count": 3,
     "metadata": {},
     "output_type": "execute_result"
    }
   ],
   "source": [
    "pwd"
   ]
  },
  {
   "cell_type": "code",
   "execution_count": 11,
   "id": "208f82f1",
   "metadata": {},
   "outputs": [],
   "source": [
    "from langchain.document_loaders import JSONLoader, DirectoryLoader\n",
    "from langchain.text_splitter import RecursiveCharacterTextSplitter"
   ]
  },
  {
   "cell_type": "code",
   "execution_count": 12,
   "id": "251025f1",
   "metadata": {},
   "outputs": [],
   "source": [
    "# Extract text from json files\n",
    "def load_json_file():\n",
    "    \"\"\"Load json files from a specified directory.\"\"\"\n",
    "    loader = JSONLoader(\n",
    "    file_path=r\"c:\\Users\\tanmoy\\Documents\\wind\\RAG\\data\\incidentListCleaned.json\",\n",
    "    jq_schema=\".result.[],.countOfIncidentsByStatus.count[],.howToResolveBook.incidentResolutionByincidentDescription[],.sizeOfTotalIncident\",\n",
    "    text_content=False,\n",
    "    json_lines=False,\n",
    ")\n",
    "    documents = loader.load()\n",
    "    return documents"
   ]
  },
  {
   "cell_type": "code",
   "execution_count": 14,
   "id": "1df76752",
   "metadata": {},
   "outputs": [],
   "source": [
    "extracted_data = load_json_file()"
   ]
  },
  {
   "cell_type": "code",
   "execution_count": null,
   "id": "0983838d",
   "metadata": {},
   "outputs": [],
   "source": [
    "import pandas as pd\n",
    "\n",
    "# Convert extracted_data (list of Documents or dicts) to DataFrame\n",
    "df = pd.DataFrame([doc.page_content if hasattr(doc, \"page_content\") else doc for doc in extracted_data])\n",
    "df"
   ]
  },
  {
   "cell_type": "code",
   "execution_count": 16,
   "id": "51b70e89",
   "metadata": {},
   "outputs": [
    {
     "data": {
      "text/plain": [
       "105"
      ]
     },
     "execution_count": 16,
     "metadata": {},
     "output_type": "execute_result"
    }
   ],
   "source": [
    "df = df.drop_duplicates()\n",
    "len(df)"
   ]
  },
  {
   "cell_type": "code",
   "execution_count": 17,
   "id": "99c3915b",
   "metadata": {},
   "outputs": [],
   "source": [
    "cleaned_data = df.to_dict(orient=\"records\")"
   ]
  },
  {
   "cell_type": "code",
   "execution_count": 18,
   "id": "958d9d2a",
   "metadata": {},
   "outputs": [
    {
     "data": {
      "text/plain": [
       "68"
      ]
     },
     "execution_count": 18,
     "metadata": {},
     "output_type": "execute_result"
    }
   ],
   "source": [
    "incidentSizeFromSource = cleaned_data[-1]\n",
    "last_obj_val = list(incidentSizeFromSource.values())[0]\n",
    "last_obj_val = int(last_obj_val)\n",
    "last_obj_val\n",
    "\n"
   ]
  },
  {
   "cell_type": "code",
   "execution_count": 19,
   "id": "5eb8b849",
   "metadata": {},
   "outputs": [],
   "source": [
    "def dict_to_text_onIncident_details(d):\n",
    "    return (\n",
    "        f\"the incident number {d.get('incidentNumber', '')}\\n\"\n",
    "        f\" has description :{d.get('incidentDescription', '').lower()}\\n\"\n",
    "        f\" with current state : {d.get('stateOfTicket', '').lower()}\\n\"\n",
    "        f\" and is currently assigned to : {d.get('incidentAssignedTo', 'no one ').lower()}\\n\"\n",
    "        f\" and has priority of : {d.get('severity_priority', '').lower()}\\n\"\n",
    "        f\" and work notes provided fir this incident number is : {d.get('workNotes', '').lower()}\\n\"\n",
    "        f\" resolution provided for this incident number : {d.get('incidentNumber', '')} was: {d.get('howItWasResolved', '').lower()}\\n\"\n",
    "        f\".This incident number : {d.get('incidentNumber', '')} has the tag {d.get('incidentTag', '').lower()}\\n\"\n",
    "    )"
   ]
  },
  {
   "cell_type": "code",
   "execution_count": 20,
   "id": "9870482f",
   "metadata": {},
   "outputs": [],
   "source": [
    "# ...existing code...\n",
    "def dict_to_text_onIncidentByStateCount(d):\n",
    "    return (\n",
    "        f\"count of incident number with state : {d.get('incidentState', '')}\\n\"\n",
    "        f\"is : {d.get('incidentByStateCount', '')}\\n\"\n",
    "    )\n",
    "\n"
   ]
  },
  {
   "cell_type": "code",
   "execution_count": 21,
   "id": "79ba5f0d",
   "metadata": {},
   "outputs": [],
   "source": [
    "def dict_to_text_incident_description_resolution(d):\n",
    "    return (\n",
    "        f\"incident with description : {d.get('incidentDescription', '')}\\n\"\n",
    "        f\" was closed and fixed with these steps provided as : {d.get('incidentResolution', '')}\\n\"\n",
    "    )\n",
    "\n"
   ]
  },
  {
   "cell_type": "code",
   "execution_count": 22,
   "id": "6fdda499",
   "metadata": {},
   "outputs": [],
   "source": [
    "from langchain.schema import Document\n",
    "import json\n",
    "\n",
    "fixed_cleaned_data_incident = [json.loads(list(item.values())[0]) for item in cleaned_data[:last_obj_val]]\n",
    "\n"
   ]
  },
  {
   "cell_type": "code",
   "execution_count": 24,
   "id": "d2b9dda8",
   "metadata": {},
   "outputs": [],
   "source": [
    "from langchain.schema import Document\n",
    "import json\n",
    "\n",
    "fixed_cleaned_data_stateCount = [json.loads(list(item.values())[0]) for item in cleaned_data[last_obj_val:last_obj_val+4]]\n",
    "\n"
   ]
  },
  {
   "cell_type": "code",
   "execution_count": 25,
   "id": "7cf787e1",
   "metadata": {},
   "outputs": [],
   "source": [
    "from langchain.schema import Document\n",
    "import json\n",
    "\n",
    "fixed_cleaned_data_resolution = [json.loads(list(item.values())[0]) for item in cleaned_data[last_obj_val+4:len(cleaned_data)-1]]\n"
   ]
  },
  {
   "cell_type": "code",
   "execution_count": null,
   "id": "7a7fb44c",
   "metadata": {},
   "outputs": [],
   "source": [
    "extracted_data_incident = [\n",
    "    Document(\n",
    "        page_content=dict_to_text_onIncident_details(item),\n",
    "        metadata={\"incidentNumber\": item.get(\"incidentNumber\", \"\")}\n",
    "    )\n",
    "    for item in fixed_cleaned_data_incident\n",
    "]\n",
    "extracted_data_incident\n"
   ]
  },
  {
   "cell_type": "code",
   "execution_count": null,
   "id": "fa469a0c",
   "metadata": {},
   "outputs": [],
   "source": [
    "extracted_data_count = [Document(page_content=dict_to_text_onIncidentByStateCount(item)) for item in fixed_cleaned_data_stateCount]\n",
    "extracted_data_count\n"
   ]
  },
  {
   "cell_type": "code",
   "execution_count": null,
   "id": "22b669fb",
   "metadata": {},
   "outputs": [],
   "source": [
    "extracted_data_resolution_book = [Document(page_content=dict_to_text_incident_description_resolution(item)) for item in fixed_cleaned_data_resolution]\n",
    "extracted_data_resolution_book\n"
   ]
  },
  {
   "cell_type": "code",
   "execution_count": null,
   "id": "ee2d4a87",
   "metadata": {},
   "outputs": [],
   "source": [
    "all_extracted_data = extracted_data_incident + extracted_data_count + extracted_data_resolution_book\n",
    "all_extracted_data"
   ]
  },
  {
   "cell_type": "code",
   "execution_count": 39,
   "id": "f8730154",
   "metadata": {},
   "outputs": [],
   "source": [
    "from typing import List\n",
    "from langchain.schema import Document\n",
    "\n",
    "def filter_to_minimal_docs(docs: List[Document]) -> List[Document]:\n",
    "    \"\"\"\n",
    "    Given a list of Document objects, return a new list of Document objects\n",
    "    containing only 'source' in metadata and the original page_content.\n",
    "    \"\"\"\n",
    "    minimal_docs: List[Document] = []\n",
    "    for doc in docs:\n",
    "        minimal_docs.append(\n",
    "            Document(\n",
    "                page_content=doc.page_content,\n",
    "                metadata= doc.metadata\n",
    "            )\n",
    "        )\n",
    "    return minimal_docs"
   ]
  },
  {
   "cell_type": "code",
   "execution_count": null,
   "id": "981b5397",
   "metadata": {},
   "outputs": [],
   "source": [
    "minimal_docs = filter_to_minimal_docs(all_extracted_data)\n",
    "minimal_docs"
   ]
  },
  {
   "cell_type": "code",
   "execution_count": 41,
   "id": "0dd61dc2",
   "metadata": {},
   "outputs": [
    {
     "name": "stdout",
     "output_type": "stream",
     "text": [
      "Number of minimal_docs: 104\n"
     ]
    }
   ],
   "source": [
    "print(f\"Number of minimal_docs: {len(minimal_docs)}\")"
   ]
  },
  {
   "cell_type": "code",
   "execution_count": 82,
   "id": "7d399cda",
   "metadata": {},
   "outputs": [],
   "source": [
    "# Split the documents into smaller chunks\n",
    "def text_split(minimal_docs):\n",
    "    text_splitter = RecursiveCharacterTextSplitter(\n",
    "        chunk_size=1000,\n",
    "        chunk_overlap=200,\n",
    "        separators=[\"\\n\\n\", \"\\n\", \". \", \" \", \"\"]\n",
    "    )\n",
    "    texts_chunk = minimal_docs\n",
    "    return texts_chunk"
   ]
  },
  {
   "cell_type": "code",
   "execution_count": 86,
   "id": "b1f52c8e",
   "metadata": {},
   "outputs": [
    {
     "name": "stdout",
     "output_type": "stream",
     "text": [
      "Number of chunks: 104\n"
     ]
    }
   ],
   "source": [
    "texts_chunk = text_split(minimal_docs)\n",
    "print(f\"Number of chunks: {len(texts_chunk)}\")"
   ]
  },
  {
   "cell_type": "code",
   "execution_count": null,
   "id": "f4011a60",
   "metadata": {},
   "outputs": [],
   "source": [
    "from langchain.embeddings import HuggingFaceEmbeddings\n",
    "\n",
    "def download_embeddings():\n",
    "    \"\"\"\n",
    "    Download and return the HuggingFace embeddings model.\n",
    "    \"\"\"\n",
    "    model_name = \"sentence-transformers/all-mpnet-base-v2\"\n",
    "    embeddings = HuggingFaceEmbeddings(\n",
    "        model_name=model_name\n",
    "    )\n",
    "    return embeddings\n",
    "\n",
    "embedding = download_embeddings()"
   ]
  },
  {
   "cell_type": "code",
   "execution_count": 4,
   "id": "e7bbcd48",
   "metadata": {},
   "outputs": [
    {
     "data": {
      "text/plain": [
       "True"
      ]
     },
     "execution_count": 4,
     "metadata": {},
     "output_type": "execute_result"
    }
   ],
   "source": [
    "from dotenv import load_dotenv\n",
    "import os\n",
    "load_dotenv()"
   ]
  },
  {
   "cell_type": "code",
   "execution_count": 5,
   "id": "c21d217d",
   "metadata": {},
   "outputs": [],
   "source": [
    "PINECONE_API_KEY = os.getenv(\"PINECONE_API_KEY\")\n",
    "MISTRAL_API_KEY = os.getenv(\"MISTRAL_API_KEY\")\n"
   ]
  },
  {
   "cell_type": "code",
   "execution_count": 7,
   "id": "b94d144c",
   "metadata": {},
   "outputs": [],
   "source": [
    "os.environ[\"PINECONE_API_KEY\"] = PINECONE_API_KEY\n",
    "os.environ[\"MISTRAL_API_KEY\"] = MISTRAL_API_KEY"
   ]
  },
  {
   "cell_type": "code",
   "execution_count": 8,
   "metadata": {},
   "outputs": [],
   "source": [
    "from pinecone import Pinecone \n",
    "pinecone_api_key = PINECONE_API_KEY\n",
    "\n",
    "pc1 = Pinecone(api_key=pinecone_api_key)"
   ]
  },
  {
   "cell_type": "code",
   "execution_count": 51,
   "metadata": {},
   "outputs": [
    {
     "data": {
      "text/plain": [
       "<pinecone.pinecone.Pinecone at 0x1f691eaa120>"
      ]
     },
     "execution_count": 51,
     "metadata": {},
     "output_type": "execute_result"
    }
   ],
   "source": [
    "pc1"
   ]
  },
  {
   "cell_type": "code",
   "execution_count": null,
   "id": "94809614",
   "metadata": {},
   "outputs": [],
   "source": [
    "from pinecone import ServerlessSpec \n",
    "\n",
    "index_name = \"incident-chatbot\"\n",
    "\n",
    "if not pc1.has_index(index_name):\n",
    "    pc1.create_index(\n",
    "        name = index_name,\n",
    "        dimension=768,  # Dimension of the embeddings\n",
    "        metric= \"cosine\",  # Cosine similarity\n",
    "        spec=ServerlessSpec(cloud=\"aws\", region=\"us-east-1\")\n",
    "    )\n",
    "\n",
    "\n",
    "index = pc1.Index(index_name)"
   ]
  },
  {
   "cell_type": "code",
   "execution_count": null,
   "id": "f52101c7",
   "metadata": {},
   "outputs": [],
   "source": [
    "from langchain_pinecone import PineconeVectorStore\n",
    "\n",
    "docsearch = PineconeVectorStore.from_documents(\n",
    "    documents=texts_chunk,\n",
    "    embedding=embedding,\n",
    "    index_name=index_name\n",
    ")"
   ]
  },
  {
   "cell_type": "code",
   "execution_count": null,
   "id": "921236e4",
   "metadata": {},
   "outputs": [],
   "source": [
    "retriever =docsearch.as_retriever(search_type=\"mmr\", \n",
    "                                  search_kwargs={\n",
    "                    'k': 100,  # Number of documents to return\n",
    "                    'fetch_k': 50,  # Number of documents to fetch before applying MMR\n",
    "                    'lambda_mult': 0.5  # Controls diversity: 0.5 is balanced\n",
    "                })"
   ]
  },
  {
   "cell_type": "code",
   "execution_count": null,
   "id": "fb79f10e",
   "metadata": {},
   "outputs": [
    {
     "data": {
      "text/plain": [
       "ChatMistralAI(client=<httpx.Client object at 0x000001F694821E50>, async_client=<httpx.AsyncClient object at 0x000001F694822850>, mistral_api_key=SecretStr('**********'), endpoint='https://api.mistral.ai/v1', model='mistral-tiny', temperature=0.1, max_tokens=1000, model_kwargs={})"
      ]
     },
     "execution_count": 57,
     "metadata": {},
     "output_type": "execute_result"
    }
   ],
   "source": [
    "\n",
    "\n",
    "from langchain_mistralai import ChatMistralAI\n",
    "chatModel = ChatMistralAI(\n",
    "        model=\"mistral-tiny\",\n",
    "        temperature=0.1,\n",
    "        max_tokens=1000,\n",
    "        api_key=MISTRAL_API_KEY)\n",
    "\n",
    "chatModel\n"
   ]
  },
  {
   "cell_type": "code",
   "execution_count": 59,
   "metadata": {},
   "outputs": [],
   "source": [
    "from langchain.chains import create_retrieval_chain\n",
    "from langchain.chains.combine_documents import create_stuff_documents_chain\n",
    "from langchain_core.prompts import ChatPromptTemplate"
   ]
  },
  {
   "cell_type": "code",
   "execution_count": null,
   "id": "8c37cb9c",
   "metadata": {},
   "outputs": [],
   "source": [
    "\n",
    "\n",
    "\n",
    "\n",
    "system_prompt = (\n",
    "    \"You are a Service Now incident management assistant for question-answering tasks based on service now tickets. \"\n",
    "    \"Use the following pieces of retrieved context to answer \"\n",
    "    \"the question. If you don't know the answer, say that you \"\n",
    "    \"don't know. Use three sentences maximum and keep the \"\n",
    "    \"answer concise.\\n\\n\"\n",
    "    \"{context}\"\n",
    ")\n",
    "\n",
    "# Few-shot examples\n",
    "few_shot_examples = [\n",
    "    (\"human\", \"what is tag for the incident number INC0010001?\"),\n",
    "    (\"ai\", \"The tag for the incident number INC0000010 is: Java.\"),\n",
    "    (\"human\", \"what is tag for the incident number INC0000060?\"),\n",
    "    (\"ai\", \"The tag for the incident number INC0000020 is: Sys Network.\"),\n",
    "]\n",
    "\n",
    "prompt = ChatPromptTemplate.from_messages(\n",
    "    [(\"system\", system_prompt)] + few_shot_examples + [(\"human\", \"{input}\")]\n",
    ")"
   ]
  },
  {
   "cell_type": "code",
   "execution_count": null,
   "id": "9c8d2840",
   "metadata": {},
   "outputs": [],
   "source": [
    "\n",
    "\n",
    "question_answer_chain = create_stuff_documents_chain(chatModel, prompt)\n",
    "rag_chain = create_retrieval_chain(retriever, question_answer_chain)"
   ]
  },
  {
   "cell_type": "code",
   "execution_count": null,
   "id": "0ab12b0a",
   "metadata": {},
   "outputs": [],
   "source": [
    "response = rag_chain.invoke({\"input\": \"give me all the details of incident number INC0000039\"})\n",
    "print(response[\"answer\"])"
   ]
  },
  {
   "cell_type": "code",
   "execution_count": null,
   "id": "0e74ff90",
   "metadata": {},
   "outputs": [],
   "source": [
    "response = rag_chain.invoke({\"input\": \"what is incidentTag for the incident number INC0000038?\"})\n",
    "print(response[\"answer\"])"
   ]
  },
  {
   "cell_type": "code",
   "execution_count": null,
   "id": "7fa8509c",
   "metadata": {},
   "outputs": [],
   "source": [
    "response = rag_chain.invoke({\"input\": \"numbers of incidents with different states\"})\n",
    "print(response[\"answer\"])"
   ]
  },
  {
   "cell_type": "code",
   "execution_count": null,
   "id": "a94b0e12",
   "metadata": {},
   "outputs": [],
   "source": [
    "response = rag_chain.invoke({\"input\": \"give me list of all the incident numbers in ascending order along with status and priority. do not show duplicate tickets\"})\n",
    "print(response[\"answer\"])"
   ]
  },
  {
   "cell_type": "code",
   "execution_count": null,
   "id": "1cc231e1",
   "metadata": {},
   "outputs": [],
   "source": [
    "response = rag_chain.invoke({\"input\": \"give me the total count of incident numbers and the breakup?\"})\n",
    "print(response[\"answer\"])"
   ]
  },
  {
   "cell_type": "code",
   "execution_count": null,
   "id": "381eec14",
   "metadata": {},
   "outputs": [],
   "source": [
    "response = rag_chain.invoke({\"input\": \"group incidents by state\"})\n",
    "print(response[\"answer\"])"
   ]
  },
  {
   "cell_type": "code",
   "execution_count": null,
   "id": "cf000d89",
   "metadata": {},
   "outputs": [],
   "source": [
    "response = rag_chain.invoke({\"input\": \"what is the details of incident number INC0009009?\"})\n",
    "print(response[\"answer\"])"
   ]
  },
  {
   "cell_type": "code",
   "execution_count": null,
   "id": "a3a979ba",
   "metadata": {},
   "outputs": [],
   "source": [
    "response = rag_chain.invoke({\"input\": \"tell me about INC0007001 and how was it resolved?\"})\n",
    "print(response[\"answer\"])"
   ]
  },
  {
   "cell_type": "code",
   "execution_count": null,
   "id": "e2b90229",
   "metadata": {},
   "outputs": [],
   "source": [
    "response = rag_chain.invoke({\"input\": \"tell me about INC0009004 and how was it resolved?\"})\n",
    "print(response[\"answer\"])"
   ]
  }
 ],
 "metadata": {
  "kernelspec": {
   "display_name": "medibot",
   "language": "python",
   "name": "python3"
  },
  "language_info": {
   "codemirror_mode": {
    "name": "ipython",
    "version": 3
   },
   "file_extension": ".py",
   "mimetype": "text/x-python",
   "name": "python",
   "nbconvert_exporter": "python",
   "pygments_lexer": "ipython3",
   "version": "3.13.5"
  }
 },
 "nbformat": 4,
 "nbformat_minor": 5
}
